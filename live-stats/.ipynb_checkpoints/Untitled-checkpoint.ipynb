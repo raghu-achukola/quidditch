{
 "cells": [
  {
   "cell_type": "code",
   "execution_count": 33,
   "metadata": {},
   "outputs": [],
   "source": [
    "import json\n",
    "from collections import Counter"
   ]
  },
  {
   "cell_type": "code",
   "execution_count": 27,
   "metadata": {},
   "outputs": [],
   "source": [
    "with open('all_plays.json') as j:\n",
    "    all_plays = json.load(j)"
   ]
  },
  {
   "cell_type": "code",
   "execution_count": null,
   "metadata": {},
   "outputs": [],
   "source": [
    "def get_player_plays(corpus, player,result,kind=='both'):\n",
    "    \n",
    "    if kind.lower()=='primary':\n",
    "        lookup = lambda player,play: player in play['primary']\n",
    "    elif kind.lower() =='secondary':\n",
    "        lookup = lambda player,play: player in play['secondary']\n",
    "    else\n",
    "        lookup = lambda player,play: player in play['primary'] or player in play['secondary']\n",
    "    return [play for play in corpus if play['result']==result and lookup(play,player)]"
   ]
  },
  {
   "cell_type": "code",
   "execution_count": 39,
   "metadata": {},
   "outputs": [
    {
     "data": {
      "text/plain": [
       "[('TEXAS-LUKE MEISSNER', 43),\n",
       " ('TEXAS-JOSH JOHNSON', 39),\n",
       " ('TEXAS-AIDAN PARSI', 39),\n",
       " ('TEXAS-KASYE BEVERS', 35),\n",
       " ('TEXAS-DAVIS ROE', 34),\n",
       " ('TEXAS-JOHN ANDERSON', 31),\n",
       " ('TEXAS-NICK MARINO', 27),\n",
       " ('TEXAS-GRAYSON BRIGGS', 21),\n",
       " ('TEXAS-CULLEN FRIDAY', 18),\n",
       " ('TEXAS-MICHAEL JOHNSTON', 14),\n",
       " ('TEXAS-ERIN MCBRIDE', 14),\n",
       " ('TEXAS-COLE BURKE', 11),\n",
       " ('TEXAS-DYLAN BOTTOMS', 10),\n",
       " ('TEXAS-OLIVE JIM-DANIELS', 8),\n",
       " ('TEXAS-JOEY CASTELLANO', 8),\n",
       " ('TEXAS-JAYDAN GILSTRAP', 7),\n",
       " ('TAMU-CONNOR MCINTYRE', 6),\n",
       " ('MIZZOU-UNK', 6),\n",
       " ('TAMU-ALEX STEWART', 6),\n",
       " ('TEXAS-UNK', 6)]"
      ]
     },
     "execution_count": 39,
     "metadata": {},
     "output_type": "execute_result"
    }
   ],
   "source": [
    "Counter(['::'.join(play['primary']) for play in all_plays if play['offense']=='TEXAS']).most_common(20)"
   ]
  },
  {
   "cell_type": "code",
   "execution_count": null,
   "metadata": {},
   "outputs": [],
   "source": []
  }
 ],
 "metadata": {
  "kernelspec": {
   "display_name": "Python [default]",
   "language": "python",
   "name": "python3"
  },
  "language_info": {
   "codemirror_mode": {
    "name": "ipython",
    "version": 3
   },
   "file_extension": ".py",
   "mimetype": "text/x-python",
   "name": "python",
   "nbconvert_exporter": "python",
   "pygments_lexer": "ipython3",
   "version": "3.5.5"
  }
 },
 "nbformat": 4,
 "nbformat_minor": 2
}
