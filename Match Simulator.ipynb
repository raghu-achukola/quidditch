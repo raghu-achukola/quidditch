{
 "cells": [
  {
   "cell_type": "markdown",
   "metadata": {},
   "source": [
    "# Quidditch Match Simulator"
   ]
  },
  {
   "cell_type": "code",
   "execution_count": 1,
   "metadata": {},
   "outputs": [],
   "source": [
    "from scipy import stats\n",
    "from scipy.special import expit\n",
    "import random as rd\n",
    "import matplotlib.pyplot as plt\n",
    "import numpy as np\n",
    "import pandas as pd"
   ]
  },
  {
   "cell_type": "markdown",
   "metadata": {},
   "source": [
    " sim_game simulates a game possession by possession by asking the probability of scoring or catching the snitch\n",
    " on any given play. The parameters are:\n",
    "<ul>\n",
    " <li><b>possession_length_sf</b>:  This is a tuple consisting of the parameters for the (normal) distribution of \n",
    "                        the length of a seeker floor possession in seconds. e.g (45,10) means during the \n",
    "                        seeker floor, possessions take a mean of 45 seconds and a standard deviation of 10</li>\n",
    "<br>\n",
    " <li><b>possession_length_sop</b>: This is a tuple consisting of the paramaters for the distribution of the length of\n",
    "                        a snitch on pitch possession</li>\n",
    "<br>\n",
    " <li><b>elos</b>:       This is an ordered tuple consisting of the elos of the two team (1500,1300) means that\n",
    "                        team 1 has an elo of 1500 and team 2 has an elo of 1300</li>\n",
    "<br>\n",
    " <li><b>p</b>:          This is a probability of scoring for an average drive (which will be adjusted by the elo\n",
    "                        difference). i.e if the team had even elos, p would be the probability of each team scoring </li>\n",
    "<br>\n",
    " <li><b>snitch_prob</b>:This is a tuple estimating the probability each seeker would catch in a complete unhindered\n",
    "                        possession. I.e snitch_prob = (.125,.10) means team 1's seeker would catch one in eight times\n",
    "                        when they had the snitch 1v1 for an entire possession, and team 2's seeker would catch one\n",
    "                        in ten times\n",
    "<br>\n",
    " <li><b>pr</b>:         If set to true the method will print the outcome of each possession as well as final results</li>\n",
    "    <br>\n",
    "</ul>\n",
    " sim_game will output a tuple:\n",
    " <ul>\n",
    "   <li>team1score</li>\n",
    "   <li>team2score</li>\n",
    "   <li>team1scoreat18</li>\n",
    "   <li>team2scoreat18</li>\n",
    "   <li>(gtimeminutes,gtimeseconds)</li>\n",
    "    </ul>\n",
    " \n",
    "\n"
   ]
  },
  {
   "cell_type": "code",
   "execution_count": 2,
   "metadata": {},
   "outputs": [],
   "source": [
    "def sim_game(possession_length_sf:tuple, possession_length_sop:tuple, \n",
    "             elos:tuple ,p:float,snitch_prob:tuple, pr = False)-> tuple:\n",
    "    \n",
    "    assert len(possession_length_sf)==2\n",
    "    assert len(possession_length_sop)==2\n",
    "    assert len(elos)==2\n",
    "    assert p<1 and p>0\n",
    "    assert len(s)==2\n",
    "    \n",
    "    m,sd = possession_length_sf\n",
    "    time = 0                                  # Gametime in seconds\n",
    "    score = [0,0]                             # Score [t1,t2]\n",
    "    turn = int(rd.random()+0.5)               # Randomize who wins brooms up\n",
    "    time_to_clock = lambda x: (x//60,x%60)    # Function for converting seconds into mm:ss\n",
    "    ed = elos[0]-elos[1]                      # Elo difference\n",
    "    \n",
    "    \n",
    "    #During the seeker floor\n",
    "    while time <1080:\n",
    "        #New posession\n",
    "        turn = not turn\n",
    "        #Elo difference\n",
    "        difference = -ed if turn else ed\n",
    "        \n",
    "        #The probability of the offensive team scoring\n",
    "        prob = max(0,min(p+expit(difference/400)-.5,1)) + np.random.normal(0,0.02)\n",
    "        if rd.random()< prob:\n",
    "            score[int(turn)]+=10\n",
    "            \n",
    "        #Simulate how long the possession lasted (assuming a fast break takes a minimum of 5 seconds)\n",
    "        time += int(max(5,np.random.normal(m,sd)))\n",
    "        if pr:\n",
    "            print('({}:{}):  {}  -  {}'.format(*time_to_clock(time),score[0],score[1]))\n",
    "            \n",
    "    #During snitch on pitch\n",
    "    m,sd = possession_length_sop\n",
    "    s1,s2 = snitch_prob\n",
    "    one18,two18 = score #score at 18 minutes\n",
    "    while True:\n",
    "        turn = not turn\n",
    "        qpd = score[0]-score[1]\n",
    "        # If the game is at or out of range for team 1, team 2 cannot catch and will defend (lowering team 1's chances)\n",
    "        if qpd>=30:\n",
    "            ps1,ps2 = (s1*(1-s2)**1.5,0)\n",
    "        # If the game is at or out of range for team 2, team 1 cannot catch and will defend (lowering team 2's chances)\n",
    "        elif qpd<=-30:\n",
    "            ps1,ps2 = (0,s2*(1-s1)**1.5)\n",
    "        # If the game is in range, seekers will try to defend while on defense but also try to catch\n",
    "        else:\n",
    "            ps1,ps2 = (s1*(1-s2),s2) if turn else (s1,s2*(1-s1))\n",
    "        # Increment gametime\n",
    "        time += int(max(5,np.random.normal(m,sd)))\n",
    "        #Simulate whether snitch catch occured\n",
    "        sc = rd.random()\n",
    "        if sc<ps1:\n",
    "            score[0]+=30\n",
    "            if pr:\n",
    "                print(\"({}:{}) CATCH! FINAL SCORE: {} - {}\".format(*time_to_clock(time),score[0],score[1]))\n",
    "            return (score[0],score[1], one18, two18,time_to_clock(time))\n",
    "        elif sc<ps1+ps2:\n",
    "            score[1]+=30\n",
    "            if pr:\n",
    "                print(\"({}:{}) CATCH! FINAL SCORE: {} - {}\".format(*time_to_clock(time),score[0],score[1]))\n",
    "            return (score[0],score[1], one18, two18,time_to_clock(time))\n",
    "        #If not see what happened in quaffle play\n",
    "        else:\n",
    "            difference = -ed if turn else ed\n",
    "            prob = max(0,min(p+expit(difference/475)-.5,1)) + np.random.normal(0,0.02)\n",
    "            if rd.random()< prob:\n",
    "                score[int(turn)]+=10\n",
    "            if pr:\n",
    "                print('({}:{}):  {}  -  {}'.format(*time_to_clock(time),score[0],score[1]))\n",
    "        \n",
    "        \n",
    "        \n",
    "    \n",
    "        \n",
    "    "
   ]
  },
  {
   "cell_type": "markdown",
   "metadata": {},
   "source": [
    "For example let's simulate a game, assuming that posesssion length during seeker floor is:\n",
    "$$l_{sf} \\sim N(45,10^2)$$\n",
    "Possesion length during snitch on pitch is:\n",
    "$$l_{sop} \\sim N(35,15^2)$$\n",
    "Elo for team 1 is 2000 and elo for team 2 is 1800\n",
    "$$e_1,e_2 = 2000,1800$$\n",
    "Average offensive scoring probability is 55\\%\n",
    "$$p = 0.55$$\n",
    "Each team's solo catch probability is 1/8\n",
    "$$s_1,s_2 = 0.125,0.125$$"
   ]
  },
  {
   "cell_type": "code",
   "execution_count": 3,
   "metadata": {},
   "outputs": [
    {
     "name": "stdout",
     "output_type": "stream",
     "text": [
      "(0:22):  0  -  0\n",
      "(0:50):  0  -  0\n",
      "(1:34):  0  -  0\n",
      "(2:13):  10  -  0\n",
      "(3:0):  10  -  10\n",
      "(3:45):  20  -  10\n",
      "(4:10):  20  -  20\n",
      "(5:2):  30  -  20\n",
      "(5:32):  30  -  30\n",
      "(6:24):  40  -  30\n",
      "(7:21):  40  -  30\n",
      "(8:3):  50  -  30\n",
      "(8:24):  50  -  40\n",
      "(9:7):  60  -  40\n",
      "(9:45):  60  -  50\n",
      "(10:20):  70  -  50\n",
      "(10:53):  70  -  60\n",
      "(11:26):  70  -  60\n",
      "(12:11):  70  -  60\n",
      "(12:39):  80  -  60\n",
      "(13:12):  80  -  60\n",
      "(13:54):  90  -  60\n",
      "(14:41):  90  -  60\n",
      "(15:10):  100  -  60\n",
      "(16:3):  100  -  60\n",
      "(16:42):  100  -  60\n",
      "(17:43):  100  -  60\n",
      "(18:27):  100  -  60\n",
      "(19:4):  100  -  60\n",
      "(19:17):  110  -  60\n",
      "(19:34):  110  -  70\n",
      "(20:21) CATCH! FINAL SCORE: 140 - 70\n"
     ]
    },
    {
     "data": {
      "text/plain": [
       "(140, 70, 100, 60, (20, 21))"
      ]
     },
     "execution_count": 3,
     "metadata": {},
     "output_type": "execute_result"
    }
   ],
   "source": [
    "plsf = (45,10)\n",
    "plsop = (35,15)\n",
    "elos = (2000,1800)\n",
    "p = 0.55\n",
    "s=(.125,.125)\n",
    "sim_game(plsf,plsop,elos,p,s,pr=True)"
   ]
  },
  {
   "cell_type": "markdown",
   "metadata": {},
   "source": [
    "For help in adjusting hyperparamaters/the numbers hard coded in to the probability model the below method can help visualize the distribution of quaffle point differential:"
   ]
  },
  {
   "cell_type": "code",
   "execution_count": 4,
   "metadata": {},
   "outputs": [],
   "source": [
    "def get_distribution(sf,sop,elos,p,s):\n",
    "    raw = [[x  for x in sim_game(sf,sop,elos,p,s)] for _ in range(10000) ]\n",
    "    dset = [a-b-30 if a>b else a-b+30 for a,b,_,_,_ in raw ]\n",
    "    bins = np.arange(min(dset)-5,max(dset)+15,10)\n",
    "    plt.xlabel('Quaffle Point Differential')\n",
    "    plt.hist(dset,bins=bins,edgecolor='black')\n",
    "    plt.show()"
   ]
  },
  {
   "cell_type": "code",
   "execution_count": 5,
   "metadata": {},
   "outputs": [
    {
     "data": {
      "image/png": "[encoded data removed]",
      "text/plain": [
       "<Figure size 432x288 with 1 Axes>"
      ]
     },
     "metadata": {
      "needs_background": "light"
     },
     "output_type": "display_data"
    }
   ],
   "source": [
    "get_distribution(plsf,plsop,elos,p,s)"
   ]
  },
  {
   "cell_type": "markdown",
   "metadata": {},
   "source": [
    "#### Potential Improvements\n",
    "\n",
    "<ol>\n",
    "    <li> Convert the function sim_game from taking p to taking a custom function to calculate probability of scoring during sop and during seeker floor to better have control of adjusting hyperparameters for optimal model selection </li>\n",
    "    <li> Add a graphic visualization for SWIM games to help better see the interplay in the seeker game for in range games/ testing the efficacy of the seeking parameter</li>\n",
    "    <li> Use USQ game data for parameter selection </li>\n",
    "</ol>"
   ]
  },
  {
   "cell_type": "code",
   "execution_count": null,
   "metadata": {},
   "outputs": [],
   "source": []
  }
 ],
 "metadata": {
  "kernelspec": {
   "display_name": "Python 3",
   "language": "python",
   "name": "python3"
  },
  "language_info": {
   "codemirror_mode": {
    "name": "ipython",
    "version": 3
   },
   "file_extension": ".py",
   "mimetype": "text/x-python",
   "name": "python",
   "nbconvert_exporter": "python",
   "pygments_lexer": "ipython3",
   "version": "3.7.3"
  }
 },
 "nbformat": 4,
 "nbformat_minor": 2
}
